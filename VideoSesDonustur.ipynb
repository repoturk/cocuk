{
  "nbformat": 4,
  "nbformat_minor": 0,
  "metadata": {
    "colab": {
      "name": "VideoSesDonustur",
      "provenance": [],
      "authorship_tag": "ABX9TyPWMlUD/JXp4q8ST9UVJuhf",
      "include_colab_link": true
    },
    "kernelspec": {
      "display_name": "Python 3",
      "name": "python3"
    },
    "language_info": {
      "name": "python"
    }
  },
  "cells": [
    {
      "cell_type": "markdown",
      "metadata": {
        "id": "view-in-github",
        "colab_type": "text"
      },
      "source": [
        "<a href=\"https://colab.research.google.com/github/repoturk/cocuk/blob/master/VideoSesDonustur.ipynb\" target=\"_parent\"><img src=\"https://colab.research.google.com/assets/colab-badge.svg\" alt=\"Open In Colab\"/></a>"
      ]
    },
    {
      "cell_type": "code",
      "metadata": {
        "cellView": "form",
        "id": "EBqWM-x61KSn"
      },
      "source": [
        "#@title <<----<strong> Auto Reconnect\n",
        "%%capture\n",
        "import IPython\n",
        "from google.colab import output\n",
        "\n",
        "display(IPython.display.Javascript('''\n",
        "function ClickConnect(){\n",
        "  btn = document.querySelector(\"colab-connect-button\")\n",
        "  if (btn != null){\n",
        "    console.log(\"Click colab-connect-button\"); \n",
        "    btn.click() \n",
        "    }\n",
        "  \n",
        "  btn = document.getElementById('ok')\n",
        "  if (btn != null){\n",
        "    console.log(\"Click reconnect\"); \n",
        "    btn.click() \n",
        "    }\n",
        "  }\n",
        "  \n",
        "setInterval(ClickConnect,60000)\n",
        "'''))"
      ],
      "execution_count": null,
      "outputs": []
    },
    {
      "cell_type": "code",
      "metadata": {
        "id": "G7-1QZEdQXCT"
      },
      "source": [
        "!apt install ffmpeg\n",
        "!git clone https://github.com/repoturk/cocuk\n",
        "%cd cocuk"
      ],
      "execution_count": null,
      "outputs": []
    },
    {
      "cell_type": "code",
      "metadata": {
        "id": "UQhZ5LqSRIA2"
      },
      "source": [
        "!pip3 install -U pip\n",
        "!pip3 install -r ./requirements.txt"
      ],
      "execution_count": null,
      "outputs": []
    },
    {
      "cell_type": "code",
      "metadata": {
        "id": "Owqe0tPxUJbM"
      },
      "source": [
        "%env APP_ID=7499231 \n",
        "# https://my.telegram.org'da bir uygulama oluşturarak edinin.\n",
        "%env API_HASH=11aa5d55ab4fb3338d501e1ba276f061\n",
        "# https://my.telegram.org'da bir uygulama oluşturarak edinin.\n",
        "%env BOT_TOKEN=5363716229:AAF3BU0m6ZlMmNvp9He7AHo85nAuzwOm42g \n",
        "# https://t.me/BotFather adresinde bir bot oluşturarak edinin.\n",
        "%env SUDO_USERS=1600088232 \n",
        "# Yetkili kullanıcıların sohbet tanımlayıcısı. Birden fazla kullanıcı için ayırıcı olarak boşluk kullanın.\n",
        "%env DOWNLOAD_DIR=downloads \n",
        "# (İsteğe bağlı) İndirilen dosyaları saklamak için geçici indirme dizini.\n",
        "%env ENCODE_DIR=encodes \n",
        "# (İsteğe bağlı) kodlanan dosyaları buraya aktarır."
      ],
      "execution_count": null,
      "outputs": []
    },
    {
      "cell_type": "code",
      "metadata": {
        "colab": {
          "background_save": true
        },
        "id": "k2ARB3FQQyI-"
      },
      "source": [
        "!python3 encoder.py"
      ],
      "execution_count": null,
      "outputs": []
    }
  ]
}
